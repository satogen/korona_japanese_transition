{
 "cells": [
  {
   "cell_type": "code",
   "execution_count": 0,
   "metadata": {
    "colab": {},
    "colab_type": "code",
    "id": "PeF-CirYjq04"
   },
   "outputs": [],
   "source": [
    "from bs4 import BeautifulSoup\n",
    "import requests\n",
    "import pandas as pd\n",
    "from google.colab import files\n",
    "from matplotlib import pyplot as plt\n",
    "plt.rcParams['font.family'] = 'IPAexGothic'\n",
    "import seaborn as sns"
   ]
  },
  {
   "cell_type": "code",
   "execution_count": 0,
   "metadata": {
    "colab": {},
    "colab_type": "code",
    "id": "BkP7461PjuZ4"
   },
   "outputs": [],
   "source": [
    "url = 'https://www.mhlw.go.jp/stf/houdou/houdou_list_202002.html'"
   ]
  },
  {
   "cell_type": "code",
   "execution_count": 0,
   "metadata": {
    "colab": {},
    "colab_type": "code",
    "id": "wvVPCJVVj8a4"
   },
   "outputs": [],
   "source": [
    "html_doc = requests.get('https://www.mhlw.go.jp/stf/houdou/houdou_list_202002.html').content"
   ]
  },
  {
   "cell_type": "code",
   "execution_count": 0,
   "metadata": {
    "colab": {},
    "colab_type": "code",
    "id": "3suj01WmkOxs"
   },
   "outputs": [],
   "source": [
    "soup = BeautifulSoup(html_doc, 'html.parser')"
   ]
  },
  {
   "cell_type": "code",
   "execution_count": 0,
   "metadata": {
    "colab": {},
    "colab_type": "code",
    "id": "c1Tu8i8llLHi"
   },
   "outputs": [],
   "source": [
    "a_tags = soup.find_all('a')"
   ]
  },
  {
   "cell_type": "code",
   "execution_count": 0,
   "metadata": {
    "colab": {},
    "colab_type": "code",
    "id": "8wHJ1kZAqSFO"
   },
   "outputs": [],
   "source": []
  },
  {
   "cell_type": "code",
   "execution_count": 0,
   "metadata": {
    "colab": {},
    "colab_type": "code",
    "id": "ZyDXopMOm5pS"
   },
   "outputs": [],
   "source": [
    "columns = []\n",
    "main_df = pd.DataFrame(columns=columns)"
   ]
  },
  {
   "cell_type": "code",
   "execution_count": 0,
   "metadata": {
    "colab": {
     "base_uri": "https://localhost:8080/",
     "height": 32
    },
    "colab_type": "code",
    "id": "8GSPpxqX7O7l",
    "outputId": "c7a7f283-0968-46c2-951a-bb5c6f611770"
   },
   "outputs": [
    {
     "data": {
      "text/html": [
       "<div>\n",
       "<style scoped>\n",
       "    .dataframe tbody tr th:only-of-type {\n",
       "        vertical-align: middle;\n",
       "    }\n",
       "\n",
       "    .dataframe tbody tr th {\n",
       "        vertical-align: top;\n",
       "    }\n",
       "\n",
       "    .dataframe thead th {\n",
       "        text-align: right;\n",
       "    }\n",
       "</style>\n",
       "<table border=\"1\" class=\"dataframe\">\n",
       "  <thead>\n",
       "    <tr style=\"text-align: right;\">\n",
       "      <th></th>\n",
       "    </tr>\n",
       "  </thead>\n",
       "  <tbody>\n",
       "  </tbody>\n",
       "</table>\n",
       "</div>"
      ],
      "text/plain": [
       "Empty DataFrame\n",
       "Columns: []\n",
       "Index: []"
      ]
     },
     "execution_count": 33,
     "metadata": {
      "tags": []
     },
     "output_type": "execute_result"
    }
   ],
   "source": [
    "main_df"
   ]
  },
  {
   "cell_type": "code",
   "execution_count": 0,
   "metadata": {
    "colab": {},
    "colab_type": "code",
    "id": "UuaIP5zXlNKR"
   },
   "outputs": [],
   "source": [
    "links = []\n",
    "for a in a_tags:\n",
    "  # print(a.text)\n",
    "  if \"新型コロナウイルス感染症の現在の状況と厚生労働省の対応について\" in a.text:\n",
    "    link = \"https://www.mhlw.go.jp\" + a.get('href')\n",
    "    links.append(link)"
   ]
  },
  {
   "cell_type": "code",
   "execution_count": 0,
   "metadata": {
    "colab": {
     "base_uri": "https://localhost:8080/",
     "height": 306
    },
    "colab_type": "code",
    "id": "HB0NxclJ7gQc",
    "outputId": "16e0e719-e3ae-469e-da05-0a1d943221a2"
   },
   "outputs": [
    {
     "data": {
      "text/plain": [
       "['https://www.mhlw.go.jp/stf/newpage_09849.html',\n",
       " 'https://www.mhlw.go.jp/stf/newpage_09815.html',\n",
       " 'https://www.mhlw.go.jp/stf/newpage_09770.html',\n",
       " 'https://www.mhlw.go.jp/stf/newpage_09747.html',\n",
       " 'https://www.mhlw.go.jp/stf/newpage_09690.html',\n",
       " 'https://www.mhlw.go.jp/stf/newpage_09670.html',\n",
       " 'https://www.mhlw.go.jp/stf/newpage_09637.html',\n",
       " 'https://www.mhlw.go.jp/stf/newpage_09605.html',\n",
       " 'https://www.mhlw.go.jp/stf/newpage_09571.html',\n",
       " 'https://www.mhlw.go.jp/stf/newpage_09531.html',\n",
       " 'https://www.mhlw.go.jp/stf/newpage_09490.html',\n",
       " 'https://www.mhlw.go.jp/stf/newpage_09450.html',\n",
       " 'https://www.mhlw.go.jp/stf/newpage_09418.html',\n",
       " 'https://www.mhlw.go.jp/stf/newpage_09396.html',\n",
       " 'https://www.mhlw.go.jp/stf/newpage_09360.html',\n",
       " 'https://www.mhlw.go.jp/stf/newpage_09329.html',\n",
       " 'https://www.mhlw.go.jp/stf/newpage_09290.html']"
      ]
     },
     "execution_count": 35,
     "metadata": {
      "tags": []
     },
     "output_type": "execute_result"
    }
   ],
   "source": [
    "links"
   ]
  },
  {
   "cell_type": "code",
   "execution_count": 0,
   "metadata": {
    "colab": {},
    "colab_type": "code",
    "id": "yx3Z9KArAtnd"
   },
   "outputs": [],
   "source": [
    "  smoll_html = requests.get(links[0]).content\n",
    "  soup = BeautifulSoup(smoll_html, 'html.parser')\n",
    "  tables = soup.find_all('table')\n",
    "  page_title = soup.find('title')\n",
    "  day = page_title.text[-7:-2]\n",
    "  # print(count, day)\n",
    "  if count == 0:\n",
    "    df = dataframe_create(tables)\n",
    "    main_df = main_df.append(df)\n",
    "  else:\n",
    "    try:\n",
    "      df = dataframe_create(tables)\n",
    "      main_df = pd.merge(main_df, df, how=\"left\", on=\"居住地\")\n",
    "    except:\n",
    "      print(day + 'pass')\n",
    "      pass"
   ]
  },
  {
   "cell_type": "code",
   "execution_count": 0,
   "metadata": {
    "colab": {},
    "colab_type": "code",
    "id": "B9RICB0FzTmc"
   },
   "outputs": [],
   "source": [
    "def dataframe_create(tables):\n",
    "  for i, table in enumerate(tables):\n",
    "    table_trs = table.find_all('tr') # 行を複数取得\n",
    "    for tr_number, tr in enumerate(table_trs):\n",
    "      table_tds = tr.find_all(\"td\")\n",
    "      if tr_number == 0:\n",
    "        table_columns = [td.text for td in table_tds]\n",
    "        # print(table_data)\n",
    "        df = pd.DataFrame(columns = table_columns)\n",
    "      else:\n",
    "        try:\n",
    "          table_data = [td.text for td in table_tds]\n",
    "          # print(table_columns, table_data)\n",
    "          df2 = pd.DataFrame([table_data], columns=table_columns)\n",
    "          df = df.append(df2)\n",
    "        except:\n",
    "          pass\n",
    "    try:\n",
    "      df = df[['性別','居住地']].groupby('居住地').count()\n",
    "      df = df.rename(columns={'性別': day})\n",
    "      return df\n",
    "    except:\n",
    "      # print('this is pass')\n",
    "      pass\n",
    "    # if '居住地' in table_columns and 'チャーター便' not in table_columns:\n",
    "    #   print(table_columns, 'pass')\n",
    "    #   break;"
   ]
  },
  {
   "cell_type": "code",
   "execution_count": 0,
   "metadata": {
    "colab": {},
    "colab_type": "code",
    "id": "17KcRMDfl-Nh"
   },
   "outputs": [],
   "source": [
    "columns = []\n",
    "main_df = pd.DataFrame(columns=columns)\n",
    "for count, link in enumerate(links):\n",
    "  smoll_html = requests.get(link).content\n",
    "  soup = BeautifulSoup(smoll_html, 'html.parser')\n",
    "  tables = soup.find_all('table')\n",
    "  page_title = soup.find('title')\n",
    "  day = page_title.text[-7:-2]\n",
    "  # print(count, day)\n",
    "  if count == 0:\n",
    "    df = dataframe_create(tables)\n",
    "    main_df = main_df.append(df)\n",
    "  else:\n",
    "    try:\n",
    "      df = dataframe_create(tables)\n",
    "      main_df = pd.merge(main_df, df, how=\"left\", on=\"居住地\")\n",
    "    except:\n",
    "      print(day + 'pass')\n",
    "      pass"
   ]
  },
  {
   "cell_type": "code",
   "execution_count": 0,
   "metadata": {
    "colab": {
     "base_uri": "https://localhost:8080/",
     "height": 1000
    },
    "colab_type": "code",
    "id": "2gC4fhzLq3mV",
    "outputId": "ac78e9a2-1289-41aa-a6cf-50e24fc54a78"
   },
   "outputs": [
    {
     "data": {
      "text/html": [
       "<div>\n",
       "<style scoped>\n",
       "    .dataframe tbody tr th:only-of-type {\n",
       "        vertical-align: middle;\n",
       "    }\n",
       "\n",
       "    .dataframe tbody tr th {\n",
       "        vertical-align: top;\n",
       "    }\n",
       "\n",
       "    .dataframe thead th {\n",
       "        text-align: right;\n",
       "    }\n",
       "</style>\n",
       "<table border=\"1\" class=\"dataframe\">\n",
       "  <thead>\n",
       "    <tr style=\"text-align: right;\">\n",
       "      <th>居住地</th>\n",
       "      <th>三重県</th>\n",
       "      <th>中国\\r\\n\\t\\t\\t\\t（武漢市）</th>\n",
       "      <th>中国\\r\\n\\t\\t\\t\\t（湖北省）</th>\n",
       "      <th>中国\\r\\n\\t\\t\\t\\t（湖南省）</th>\n",
       "      <th>京都府</th>\n",
       "      <th>北海道</th>\n",
       "      <th>千葉県</th>\n",
       "      <th>和歌山</th>\n",
       "      <th>和歌山県</th>\n",
       "      <th>埼玉県</th>\n",
       "      <th>大阪府</th>\n",
       "      <th>奈良県</th>\n",
       "      <th>岐阜県</th>\n",
       "      <th>愛知県</th>\n",
       "      <th>東京都</th>\n",
       "      <th>栃木県</th>\n",
       "      <th>沖縄県</th>\n",
       "      <th>滋賀県</th>\n",
       "      <th>熊本県</th>\n",
       "      <th>石川県</th>\n",
       "      <th>神奈川</th>\n",
       "      <th>神奈川県</th>\n",
       "      <th>福岡県</th>\n",
       "      <th>調査中</th>\n",
       "      <th>長野県</th>\n",
       "    </tr>\n",
       "  </thead>\n",
       "  <tbody>\n",
       "    <tr>\n",
       "      <th>２月28日</th>\n",
       "      <td>1.0</td>\n",
       "      <td>7.0</td>\n",
       "      <td>1.0</td>\n",
       "      <td>1.0</td>\n",
       "      <td>2.0</td>\n",
       "      <td>51.0</td>\n",
       "      <td>11.0</td>\n",
       "      <td>1.0</td>\n",
       "      <td>10.0</td>\n",
       "      <td>1.0</td>\n",
       "      <td>5.0</td>\n",
       "      <td>1.0</td>\n",
       "      <td>1.0</td>\n",
       "      <td>25.0</td>\n",
       "      <td>26.0</td>\n",
       "      <td>1.0</td>\n",
       "      <td>3.0</td>\n",
       "      <td>1.0</td>\n",
       "      <td>5.0</td>\n",
       "      <td>3.0</td>\n",
       "      <td>1.0</td>\n",
       "      <td>17.0</td>\n",
       "      <td>2.0</td>\n",
       "      <td>2.0</td>\n",
       "      <td>1.0</td>\n",
       "    </tr>\n",
       "    <tr>\n",
       "      <th>２月27日</th>\n",
       "      <td>1.0</td>\n",
       "      <td>7.0</td>\n",
       "      <td>1.0</td>\n",
       "      <td>1.0</td>\n",
       "      <td>2.0</td>\n",
       "      <td>36.0</td>\n",
       "      <td>10.0</td>\n",
       "      <td>1.0</td>\n",
       "      <td>10.0</td>\n",
       "      <td>1.0</td>\n",
       "      <td>3.0</td>\n",
       "      <td>1.0</td>\n",
       "      <td>NaN</td>\n",
       "      <td>23.0</td>\n",
       "      <td>26.0</td>\n",
       "      <td>1.0</td>\n",
       "      <td>3.0</td>\n",
       "      <td>NaN</td>\n",
       "      <td>5.0</td>\n",
       "      <td>3.0</td>\n",
       "      <td>1.0</td>\n",
       "      <td>15.0</td>\n",
       "      <td>2.0</td>\n",
       "      <td>2.0</td>\n",
       "      <td>1.0</td>\n",
       "    </tr>\n",
       "    <tr>\n",
       "      <th>２月26日</th>\n",
       "      <td>1.0</td>\n",
       "      <td>7.0</td>\n",
       "      <td>1.0</td>\n",
       "      <td>1.0</td>\n",
       "      <td>2.0</td>\n",
       "      <td>30.0</td>\n",
       "      <td>7.0</td>\n",
       "      <td>1.0</td>\n",
       "      <td>10.0</td>\n",
       "      <td>1.0</td>\n",
       "      <td>1.0</td>\n",
       "      <td>1.0</td>\n",
       "      <td>NaN</td>\n",
       "      <td>18.0</td>\n",
       "      <td>23.0</td>\n",
       "      <td>1.0</td>\n",
       "      <td>3.0</td>\n",
       "      <td>NaN</td>\n",
       "      <td>5.0</td>\n",
       "      <td>3.0</td>\n",
       "      <td>1.0</td>\n",
       "      <td>14.0</td>\n",
       "      <td>2.0</td>\n",
       "      <td>2.0</td>\n",
       "      <td>1.0</td>\n",
       "    </tr>\n",
       "    <tr>\n",
       "      <th>２月25日</th>\n",
       "      <td>1.0</td>\n",
       "      <td>7.0</td>\n",
       "      <td>1.0</td>\n",
       "      <td>1.0</td>\n",
       "      <td>2.0</td>\n",
       "      <td>29.0</td>\n",
       "      <td>7.0</td>\n",
       "      <td>1.0</td>\n",
       "      <td>10.0</td>\n",
       "      <td>1.0</td>\n",
       "      <td>1.0</td>\n",
       "      <td>1.0</td>\n",
       "      <td>NaN</td>\n",
       "      <td>15.0</td>\n",
       "      <td>23.0</td>\n",
       "      <td>1.0</td>\n",
       "      <td>3.0</td>\n",
       "      <td>NaN</td>\n",
       "      <td>3.0</td>\n",
       "      <td>2.0</td>\n",
       "      <td>1.0</td>\n",
       "      <td>14.0</td>\n",
       "      <td>2.0</td>\n",
       "      <td>2.0</td>\n",
       "      <td>NaN</td>\n",
       "    </tr>\n",
       "    <tr>\n",
       "      <th>２月21日</th>\n",
       "      <td>1.0</td>\n",
       "      <td>7.0</td>\n",
       "      <td>1.0</td>\n",
       "      <td>1.0</td>\n",
       "      <td>2.0</td>\n",
       "      <td>4.0</td>\n",
       "      <td>3.0</td>\n",
       "      <td>1.0</td>\n",
       "      <td>9.0</td>\n",
       "      <td>1.0</td>\n",
       "      <td>1.0</td>\n",
       "      <td>1.0</td>\n",
       "      <td>NaN</td>\n",
       "      <td>7.0</td>\n",
       "      <td>14.0</td>\n",
       "      <td>NaN</td>\n",
       "      <td>3.0</td>\n",
       "      <td>NaN</td>\n",
       "      <td>NaN</td>\n",
       "      <td>NaN</td>\n",
       "      <td>1.0</td>\n",
       "      <td>8.0</td>\n",
       "      <td>2.0</td>\n",
       "      <td>2.0</td>\n",
       "      <td>NaN</td>\n",
       "    </tr>\n",
       "    <tr>\n",
       "      <th>２月20日</th>\n",
       "      <td>1.0</td>\n",
       "      <td>7.0</td>\n",
       "      <td>1.0</td>\n",
       "      <td>1.0</td>\n",
       "      <td>2.0</td>\n",
       "      <td>3.0</td>\n",
       "      <td>2.0</td>\n",
       "      <td>1.0</td>\n",
       "      <td>9.0</td>\n",
       "      <td>NaN</td>\n",
       "      <td>1.0</td>\n",
       "      <td>1.0</td>\n",
       "      <td>NaN</td>\n",
       "      <td>6.0</td>\n",
       "      <td>13.0</td>\n",
       "      <td>NaN</td>\n",
       "      <td>2.0</td>\n",
       "      <td>NaN</td>\n",
       "      <td>NaN</td>\n",
       "      <td>NaN</td>\n",
       "      <td>1.0</td>\n",
       "      <td>7.0</td>\n",
       "      <td>NaN</td>\n",
       "      <td>2.0</td>\n",
       "      <td>NaN</td>\n",
       "    </tr>\n",
       "    <tr>\n",
       "      <th>２月19日</th>\n",
       "      <td>1.0</td>\n",
       "      <td>7.0</td>\n",
       "      <td>1.0</td>\n",
       "      <td>1.0</td>\n",
       "      <td>2.0</td>\n",
       "      <td>1.0</td>\n",
       "      <td>2.0</td>\n",
       "      <td>1.0</td>\n",
       "      <td>9.0</td>\n",
       "      <td>NaN</td>\n",
       "      <td>1.0</td>\n",
       "      <td>1.0</td>\n",
       "      <td>NaN</td>\n",
       "      <td>5.0</td>\n",
       "      <td>10.0</td>\n",
       "      <td>NaN</td>\n",
       "      <td>1.0</td>\n",
       "      <td>NaN</td>\n",
       "      <td>NaN</td>\n",
       "      <td>NaN</td>\n",
       "      <td>1.0</td>\n",
       "      <td>4.0</td>\n",
       "      <td>NaN</td>\n",
       "      <td>2.0</td>\n",
       "      <td>NaN</td>\n",
       "    </tr>\n",
       "    <tr>\n",
       "      <th>月18日版</th>\n",
       "      <td>1.0</td>\n",
       "      <td>7.0</td>\n",
       "      <td>1.0</td>\n",
       "      <td>1.0</td>\n",
       "      <td>2.0</td>\n",
       "      <td>1.0</td>\n",
       "      <td>2.0</td>\n",
       "      <td>1.0</td>\n",
       "      <td>7.0</td>\n",
       "      <td>NaN</td>\n",
       "      <td>1.0</td>\n",
       "      <td>1.0</td>\n",
       "      <td>NaN</td>\n",
       "      <td>4.0</td>\n",
       "      <td>7.0</td>\n",
       "      <td>NaN</td>\n",
       "      <td>1.0</td>\n",
       "      <td>NaN</td>\n",
       "      <td>NaN</td>\n",
       "      <td>NaN</td>\n",
       "      <td>1.0</td>\n",
       "      <td>4.0</td>\n",
       "      <td>NaN</td>\n",
       "      <td>2.0</td>\n",
       "      <td>NaN</td>\n",
       "    </tr>\n",
       "    <tr>\n",
       "      <th>２月17日</th>\n",
       "      <td>1.0</td>\n",
       "      <td>7.0</td>\n",
       "      <td>1.0</td>\n",
       "      <td>1.0</td>\n",
       "      <td>2.0</td>\n",
       "      <td>1.0</td>\n",
       "      <td>2.0</td>\n",
       "      <td>NaN</td>\n",
       "      <td>5.0</td>\n",
       "      <td>NaN</td>\n",
       "      <td>1.0</td>\n",
       "      <td>1.0</td>\n",
       "      <td>NaN</td>\n",
       "      <td>3.0</td>\n",
       "      <td>6.0</td>\n",
       "      <td>NaN</td>\n",
       "      <td>1.0</td>\n",
       "      <td>NaN</td>\n",
       "      <td>NaN</td>\n",
       "      <td>NaN</td>\n",
       "      <td>NaN</td>\n",
       "      <td>4.0</td>\n",
       "      <td>NaN</td>\n",
       "      <td>2.0</td>\n",
       "      <td>NaN</td>\n",
       "    </tr>\n",
       "    <tr>\n",
       "      <th>２月14日</th>\n",
       "      <td>1.0</td>\n",
       "      <td>7.0</td>\n",
       "      <td>1.0</td>\n",
       "      <td>1.0</td>\n",
       "      <td>2.0</td>\n",
       "      <td>NaN</td>\n",
       "      <td>2.0</td>\n",
       "      <td>NaN</td>\n",
       "      <td>1.0</td>\n",
       "      <td>NaN</td>\n",
       "      <td>1.0</td>\n",
       "      <td>1.0</td>\n",
       "      <td>NaN</td>\n",
       "      <td>NaN</td>\n",
       "      <td>1.0</td>\n",
       "      <td>NaN</td>\n",
       "      <td>NaN</td>\n",
       "      <td>NaN</td>\n",
       "      <td>NaN</td>\n",
       "      <td>NaN</td>\n",
       "      <td>NaN</td>\n",
       "      <td>3.0</td>\n",
       "      <td>NaN</td>\n",
       "      <td>NaN</td>\n",
       "      <td>NaN</td>\n",
       "    </tr>\n",
       "    <tr>\n",
       "      <th>２月13日</th>\n",
       "      <td>1.0</td>\n",
       "      <td>7.0</td>\n",
       "      <td>1.0</td>\n",
       "      <td>1.0</td>\n",
       "      <td>2.0</td>\n",
       "      <td>NaN</td>\n",
       "      <td>1.0</td>\n",
       "      <td>NaN</td>\n",
       "      <td>NaN</td>\n",
       "      <td>NaN</td>\n",
       "      <td>1.0</td>\n",
       "      <td>1.0</td>\n",
       "      <td>NaN</td>\n",
       "      <td>NaN</td>\n",
       "      <td>NaN</td>\n",
       "      <td>NaN</td>\n",
       "      <td>NaN</td>\n",
       "      <td>NaN</td>\n",
       "      <td>NaN</td>\n",
       "      <td>NaN</td>\n",
       "      <td>NaN</td>\n",
       "      <td>2.0</td>\n",
       "      <td>NaN</td>\n",
       "      <td>NaN</td>\n",
       "      <td>NaN</td>\n",
       "    </tr>\n",
       "    <tr>\n",
       "      <th>２月12日</th>\n",
       "      <td>1.0</td>\n",
       "      <td>7.0</td>\n",
       "      <td>1.0</td>\n",
       "      <td>1.0</td>\n",
       "      <td>2.0</td>\n",
       "      <td>NaN</td>\n",
       "      <td>1.0</td>\n",
       "      <td>NaN</td>\n",
       "      <td>NaN</td>\n",
       "      <td>NaN</td>\n",
       "      <td>1.0</td>\n",
       "      <td>1.0</td>\n",
       "      <td>NaN</td>\n",
       "      <td>NaN</td>\n",
       "      <td>NaN</td>\n",
       "      <td>NaN</td>\n",
       "      <td>NaN</td>\n",
       "      <td>NaN</td>\n",
       "      <td>NaN</td>\n",
       "      <td>NaN</td>\n",
       "      <td>NaN</td>\n",
       "      <td>1.0</td>\n",
       "      <td>NaN</td>\n",
       "      <td>NaN</td>\n",
       "      <td>NaN</td>\n",
       "    </tr>\n",
       "    <tr>\n",
       "      <th>２月10日</th>\n",
       "      <td>1.0</td>\n",
       "      <td>7.0</td>\n",
       "      <td>1.0</td>\n",
       "      <td>1.0</td>\n",
       "      <td>2.0</td>\n",
       "      <td>NaN</td>\n",
       "      <td>1.0</td>\n",
       "      <td>NaN</td>\n",
       "      <td>NaN</td>\n",
       "      <td>NaN</td>\n",
       "      <td>1.0</td>\n",
       "      <td>1.0</td>\n",
       "      <td>NaN</td>\n",
       "      <td>NaN</td>\n",
       "      <td>NaN</td>\n",
       "      <td>NaN</td>\n",
       "      <td>NaN</td>\n",
       "      <td>NaN</td>\n",
       "      <td>NaN</td>\n",
       "      <td>NaN</td>\n",
       "      <td>NaN</td>\n",
       "      <td>1.0</td>\n",
       "      <td>NaN</td>\n",
       "      <td>NaN</td>\n",
       "      <td>NaN</td>\n",
       "    </tr>\n",
       "    <tr>\n",
       "      <th>年２月７日</th>\n",
       "      <td>1.0</td>\n",
       "      <td>7.0</td>\n",
       "      <td>1.0</td>\n",
       "      <td>1.0</td>\n",
       "      <td>2.0</td>\n",
       "      <td>NaN</td>\n",
       "      <td>1.0</td>\n",
       "      <td>NaN</td>\n",
       "      <td>NaN</td>\n",
       "      <td>NaN</td>\n",
       "      <td>1.0</td>\n",
       "      <td>1.0</td>\n",
       "      <td>NaN</td>\n",
       "      <td>NaN</td>\n",
       "      <td>NaN</td>\n",
       "      <td>NaN</td>\n",
       "      <td>NaN</td>\n",
       "      <td>NaN</td>\n",
       "      <td>NaN</td>\n",
       "      <td>NaN</td>\n",
       "      <td>NaN</td>\n",
       "      <td>1.0</td>\n",
       "      <td>NaN</td>\n",
       "      <td>NaN</td>\n",
       "      <td>NaN</td>\n",
       "    </tr>\n",
       "    <tr>\n",
       "      <th>年２月６日</th>\n",
       "      <td>1.0</td>\n",
       "      <td>5.0</td>\n",
       "      <td>NaN</td>\n",
       "      <td>1.0</td>\n",
       "      <td>2.0</td>\n",
       "      <td>NaN</td>\n",
       "      <td>1.0</td>\n",
       "      <td>NaN</td>\n",
       "      <td>NaN</td>\n",
       "      <td>NaN</td>\n",
       "      <td>1.0</td>\n",
       "      <td>1.0</td>\n",
       "      <td>NaN</td>\n",
       "      <td>NaN</td>\n",
       "      <td>NaN</td>\n",
       "      <td>NaN</td>\n",
       "      <td>NaN</td>\n",
       "      <td>NaN</td>\n",
       "      <td>NaN</td>\n",
       "      <td>NaN</td>\n",
       "      <td>NaN</td>\n",
       "      <td>1.0</td>\n",
       "      <td>NaN</td>\n",
       "      <td>NaN</td>\n",
       "      <td>NaN</td>\n",
       "    </tr>\n",
       "    <tr>\n",
       "      <th>年２月５日</th>\n",
       "      <td>1.0</td>\n",
       "      <td>8.0</td>\n",
       "      <td>NaN</td>\n",
       "      <td>1.0</td>\n",
       "      <td>1.0</td>\n",
       "      <td>NaN</td>\n",
       "      <td>2.0</td>\n",
       "      <td>NaN</td>\n",
       "      <td>NaN</td>\n",
       "      <td>NaN</td>\n",
       "      <td>1.0</td>\n",
       "      <td>1.0</td>\n",
       "      <td>NaN</td>\n",
       "      <td>NaN</td>\n",
       "      <td>NaN</td>\n",
       "      <td>NaN</td>\n",
       "      <td>NaN</td>\n",
       "      <td>NaN</td>\n",
       "      <td>NaN</td>\n",
       "      <td>NaN</td>\n",
       "      <td>NaN</td>\n",
       "      <td>1.0</td>\n",
       "      <td>NaN</td>\n",
       "      <td>1.0</td>\n",
       "      <td>NaN</td>\n",
       "    </tr>\n",
       "    <tr>\n",
       "      <th>年２月４日</th>\n",
       "      <td>1.0</td>\n",
       "      <td>7.0</td>\n",
       "      <td>NaN</td>\n",
       "      <td>1.0</td>\n",
       "      <td>1.0</td>\n",
       "      <td>NaN</td>\n",
       "      <td>1.0</td>\n",
       "      <td>NaN</td>\n",
       "      <td>NaN</td>\n",
       "      <td>NaN</td>\n",
       "      <td>1.0</td>\n",
       "      <td>1.0</td>\n",
       "      <td>NaN</td>\n",
       "      <td>NaN</td>\n",
       "      <td>NaN</td>\n",
       "      <td>NaN</td>\n",
       "      <td>NaN</td>\n",
       "      <td>NaN</td>\n",
       "      <td>NaN</td>\n",
       "      <td>NaN</td>\n",
       "      <td>NaN</td>\n",
       "      <td>1.0</td>\n",
       "      <td>NaN</td>\n",
       "      <td>1.0</td>\n",
       "      <td>NaN</td>\n",
       "    </tr>\n",
       "  </tbody>\n",
       "</table>\n",
       "</div>"
      ],
      "text/plain": [
       "居住地    三重県  中国\\r\\n\\t\\t\\t\\t（武漢市）  中国\\r\\n\\t\\t\\t\\t（湖北省）  ...  福岡県  調査中  長野県\n",
       "２月28日  1.0                  7.0                  1.0  ...  2.0  2.0  1.0\n",
       "２月27日  1.0                  7.0                  1.0  ...  2.0  2.0  1.0\n",
       "２月26日  1.0                  7.0                  1.0  ...  2.0  2.0  1.0\n",
       "２月25日  1.0                  7.0                  1.0  ...  2.0  2.0  NaN\n",
       "２月21日  1.0                  7.0                  1.0  ...  2.0  2.0  NaN\n",
       "２月20日  1.0                  7.0                  1.0  ...  NaN  2.0  NaN\n",
       "２月19日  1.0                  7.0                  1.0  ...  NaN  2.0  NaN\n",
       "月18日版  1.0                  7.0                  1.0  ...  NaN  2.0  NaN\n",
       "２月17日  1.0                  7.0                  1.0  ...  NaN  2.0  NaN\n",
       "２月14日  1.0                  7.0                  1.0  ...  NaN  NaN  NaN\n",
       "２月13日  1.0                  7.0                  1.0  ...  NaN  NaN  NaN\n",
       "２月12日  1.0                  7.0                  1.0  ...  NaN  NaN  NaN\n",
       "２月10日  1.0                  7.0                  1.0  ...  NaN  NaN  NaN\n",
       "年２月７日  1.0                  7.0                  1.0  ...  NaN  NaN  NaN\n",
       "年２月６日  1.0                  5.0                  NaN  ...  NaN  NaN  NaN\n",
       "年２月５日  1.0                  8.0                  NaN  ...  NaN  1.0  NaN\n",
       "年２月４日  1.0                  7.0                  NaN  ...  NaN  1.0  NaN\n",
       "\n",
       "[17 rows x 25 columns]"
      ]
     },
     "execution_count": 38,
     "metadata": {
      "tags": []
     },
     "output_type": "execute_result"
    }
   ],
   "source": [
    "main_df.T"
   ]
  },
  {
   "cell_type": "code",
   "execution_count": 0,
   "metadata": {
    "colab": {},
    "colab_type": "code",
    "id": "txIl49JQWYkj"
   },
   "outputs": [],
   "source": [
    "# df = df[['新No.','居住地']].groupby('居住地').count()\n",
    "main_df = main_df.fillna(0)\n",
    "t_main_df = main_df.T\n",
    "# t_main_df.columns\n",
    "# t_main_df.iloc[0, :]\n",
    "index_names = t_main_df.index"
   ]
  },
  {
   "cell_type": "code",
   "execution_count": 0,
   "metadata": {
    "colab": {},
    "colab_type": "code",
    "id": "XALRO2FlP_IT"
   },
   "outputs": [],
   "source": [
    "days = []\n",
    "for name in index_names:\n",
    "  month = name.split('月')\n",
    "  days.append(month[1].split('日')[0])"
   ]
  },
  {
   "cell_type": "code",
   "execution_count": 0,
   "metadata": {
    "colab": {
     "base_uri": "https://localhost:8080/",
     "height": 54
    },
    "colab_type": "code",
    "id": "fwWpHSEMc26i",
    "outputId": "dda4a5f4-6a23-4d25-d63f-e0af67d017f3"
   },
   "outputs": [
    {
     "name": "stdout",
     "output_type": "stream",
     "text": [
      "['2017-2-28', '2017-2-27', '2017-2-26', '2017-2-25', '2017-2-21', '2017-2-20', '2017-2-19', '2017-2-18', '2017-2-17', '2017-2-14', '2017-2-13', '2017-2-12', '2017-2-10', '2017-2-７', '2017-2-６', '2017-2-５', '2017-2-４']\n"
     ]
    }
   ],
   "source": [
    "new_days = []\n",
    "for i in days:\n",
    "  new_days.append(\"2017-2-\" + i)\n",
    "  # print(days)\n",
    "# len(days)\n",
    "print(new_days)\n",
    "t_main_df.index = new_days"
   ]
  },
  {
   "cell_type": "code",
   "execution_count": 0,
   "metadata": {
    "colab": {
     "base_uri": "https://localhost:8080/",
     "height": 34
    },
    "colab_type": "code",
    "id": "MlMZfBq5iIQV",
    "outputId": "e93ebf6c-7285-45d4-fb73-a4910797f95d"
   },
   "outputs": [
    {
     "name": "stdout",
     "output_type": "stream",
     "text": [
      "Requirement already satisfied: jaconv in /usr/local/lib/python3.6/dist-packages (0.2.4)\n"
     ]
    }
   ],
   "source": [
    "!pip install jaconv"
   ]
  },
  {
   "cell_type": "code",
   "execution_count": 0,
   "metadata": {
    "colab": {},
    "colab_type": "code",
    "id": "EgGqc9zrjIEg"
   },
   "outputs": [],
   "source": [
    "import jaconv"
   ]
  },
  {
   "cell_type": "code",
   "execution_count": 0,
   "metadata": {
    "colab": {},
    "colab_type": "code",
    "id": "iMiTt8EijKdd"
   },
   "outputs": [],
   "source": [
    "translate_days = []\n",
    "for i in new_days:\n",
    "  translate_days.append(jaconv.z2h(i,digit=True, ascii=True))"
   ]
  },
  {
   "cell_type": "code",
   "execution_count": 0,
   "metadata": {
    "colab": {
     "base_uri": "https://localhost:8080/",
     "height": 306
    },
    "colab_type": "code",
    "id": "BWX_OjRMjsZA",
    "outputId": "90e4dc80-1954-48ed-e528-e2549f2ee2c3"
   },
   "outputs": [
    {
     "data": {
      "text/plain": [
       "['2017-2-28',\n",
       " '2017-2-27',\n",
       " '2017-2-26',\n",
       " '2017-2-25',\n",
       " '2017-2-21',\n",
       " '2017-2-20',\n",
       " '2017-2-19',\n",
       " '2017-2-18',\n",
       " '2017-2-17',\n",
       " '2017-2-14',\n",
       " '2017-2-13',\n",
       " '2017-2-12',\n",
       " '2017-2-10',\n",
       " '2017-2-7',\n",
       " '2017-2-6',\n",
       " '2017-2-5',\n",
       " '2017-2-4']"
      ]
     },
     "execution_count": 66,
     "metadata": {
      "tags": []
     },
     "output_type": "execute_result"
    }
   ],
   "source": [
    "translate_days"
   ]
  },
  {
   "cell_type": "code",
   "execution_count": 0,
   "metadata": {
    "colab": {},
    "colab_type": "code",
    "id": "FMyzht3Sj64G"
   },
   "outputs": [],
   "source": [
    "t_main_df.index = translate_days"
   ]
  },
  {
   "cell_type": "code",
   "execution_count": 0,
   "metadata": {
    "colab": {},
    "colab_type": "code",
    "id": "L2m5oo3ynbuH"
   },
   "outputs": [],
   "source": [
    "# !apt-get -y install fonts-ipafont-gothic"
   ]
  },
  {
   "cell_type": "code",
   "execution_count": 0,
   "metadata": {
    "colab": {},
    "colab_type": "code",
    "id": "CdLgoFr5nd0B"
   },
   "outputs": [],
   "source": [
    "# !ls -ll /root/.cache/matplotlib/"
   ]
  },
  {
   "cell_type": "code",
   "execution_count": 0,
   "metadata": {
    "colab": {},
    "colab_type": "code",
    "id": "i3sy0b8Ynl5U"
   },
   "outputs": [],
   "source": [
    "# !apt-get -y install fonts-ipafont-gothic"
   ]
  },
  {
   "cell_type": "code",
   "execution_count": 0,
   "metadata": {
    "colab": {},
    "colab_type": "code",
    "id": "qzDsRv0EoNqo"
   },
   "outputs": [],
   "source": [
    "# !rm /root/.cache/matplotlib/fontlist-v310.json # 消すべきcache"
   ]
  },
  {
   "cell_type": "code",
   "execution_count": 0,
   "metadata": {
    "colab": {},
    "colab_type": "code",
    "id": "tAsjVMrvpQzv"
   },
   "outputs": [],
   "source": [
    "jp_font = {'fontname':'IPAGothic'} # 日本語フォント設定を作成\n",
    "# ax = s1.plot(figsize=(10,5))\n",
    "# ax.set_title('折れ線グラフ', fontsize=30, **jp_font) #フォントを指定"
   ]
  },
  {
   "cell_type": "code",
   "execution_count": 0,
   "metadata": {
    "colab": {},
    "colab_type": "code",
    "id": "TWWrHTbn3v2_"
   },
   "outputs": [],
   "source": [
    "for column in t_main_df.columns:\n",
    "  if '中国' in column:\n",
    "    t_main_df = t_main_df.drop(column, axis=1)"
   ]
  },
  {
   "cell_type": "code",
   "execution_count": 0,
   "metadata": {
    "colab": {},
    "colab_type": "code",
    "id": "D8q6mvaQ4K0o"
   },
   "outputs": [],
   "source": [
    "t_main_df.index = pd.to_datetime(t_main_df.index)"
   ]
  },
  {
   "cell_type": "code",
   "execution_count": 0,
   "metadata": {
    "colab": {
     "base_uri": "https://localhost:8080/",
     "height": 119
    },
    "colab_type": "code",
    "id": "sRdTjwy25cVd",
    "outputId": "75409c60-9ccc-478c-e518-e05750b701f9"
   },
   "outputs": [
    {
     "data": {
      "text/plain": [
       "DatetimeIndex(['2017-02-04', '2017-02-05', '2017-02-06', '2017-02-07',\n",
       "               '2017-02-10', '2017-02-12', '2017-02-13', '2017-02-14',\n",
       "               '2017-02-17', '2017-02-18', '2017-02-19', '2017-02-20',\n",
       "               '2017-02-21', '2017-02-25', '2017-02-26', '2017-02-27',\n",
       "               '2017-02-28'],\n",
       "              dtype='datetime64[ns]', freq=None)"
      ]
     },
     "execution_count": 72,
     "metadata": {
      "tags": []
     },
     "output_type": "execute_result"
    }
   ],
   "source": [
    "t_main_df.index.sort_values()"
   ]
  },
  {
   "cell_type": "code",
   "execution_count": 0,
   "metadata": {
    "colab": {},
    "colab_type": "code",
    "id": "W8GKC-tn7PN7"
   },
   "outputs": [],
   "source": [
    "from google.colab import files"
   ]
  },
  {
   "cell_type": "code",
   "execution_count": 0,
   "metadata": {
    "colab": {
     "base_uri": "https://localhost:8080/",
     "height": 348
    },
    "colab_type": "code",
    "id": "BcpZDsPopGlN",
    "outputId": "a761c440-95c5-44ec-9014-a9d3efbeafe8"
   },
   "outputs": [
    {
     "data": {
      "image/png": "[encoded data removed]",
      "text/plain": [
       "<Figure size 432x288 with 1 Axes>"
      ]
     },
     "metadata": {
      "tags": []
     },
     "output_type": "display_data"
    }
   ],
   "source": [
    "jp_font = {'fontname':'IPAGothic'} # 日本語フォント設定を作成\n",
    "fig, ax = plt.subplots()\n",
    "\n",
    "for columns in t_main_df.columns:\n",
    "  ax.plot(t_main_df.index, t_main_df[columns], label=columns)\n",
    "ax.set_title('2月のコロナ感染者増加数', fontsize=30, **jp_font) #フォントを指定\n",
    "\n",
    "fig.legend(bbox_to_anchor=(0.85, 1.0), loc='upper left')\n",
    "# plt.figure()\n",
    "plt.rcParams['font.family'] = 'IPAPGothic'\n",
    "# グラフの表示\n",
    "plt.savefig('february-corona.png')\n",
    "# plt.savefig('test.svg',format = 'svg'); # SVG形式ファイルも出力\n",
    "# files.download(\"february-corona.png\")\n",
    "plt.show()"
   ]
  },
  {
   "cell_type": "code",
   "execution_count": 0,
   "metadata": {
    "colab": {},
    "colab_type": "code",
    "id": "NYyBK51CqMS_"
   },
   "outputs": [],
   "source": []
  },
  {
   "cell_type": "code",
   "execution_count": 0,
   "metadata": {
    "colab": {},
    "colab_type": "code",
    "id": "2tKvaUgsEVqq"
   },
   "outputs": [],
   "source": []
  }
 ],
 "metadata": {
  "colab": {
   "name": "corona-scraping.ipynb",
   "provenance": [],
   "toc_visible": true
  },
  "kernelspec": {
   "display_name": "Python 3",
   "language": "python",
   "name": "python3"
  },
  "language_info": {
   "codemirror_mode": {
    "name": "ipython",
    "version": 3
   },
   "file_extension": ".py",
   "mimetype": "text/x-python",
   "name": "python",
   "nbconvert_exporter": "python",
   "pygments_lexer": "ipython3",
   "version": "3.7.4"
  }
 },
 "nbformat": 4,
 "nbformat_minor": 1
}
